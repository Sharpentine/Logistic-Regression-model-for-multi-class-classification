{
 "cells": [
  {
   "cell_type": "markdown",
   "id": "167d27b7",
   "metadata": {},
   "source": [
    "# Logistic Regression MNIST Classifier\n",
    "handwritten digit classification using the MNIST dataset and a Logistic Regression model"
   ]
  },
  {
   "cell_type": "code",
   "execution_count": 7,
   "id": "ade22c1a",
   "metadata": {},
   "outputs": [
    {
     "name": "stderr",
     "output_type": "stream",
     "text": [
      "C:\\Users\\loq\\AppData\\Local\\Packages\\PythonSoftwareFoundation.Python.3.12_qbz5n2kfra8p0\\LocalCache\\local-packages\\Python312\\site-packages\\sklearn\\linear_model\\_logistic.py:1247: FutureWarning: 'multi_class' was deprecated in version 1.5 and will be removed in 1.7. From then on, it will always use 'multinomial'. Leave it to its default value to avoid this warning.\n",
      "  warnings.warn(\n"
     ]
    },
    {
     "name": "stdout",
     "output_type": "stream",
     "text": [
      "              precision    recall  f1-score   support\n",
      "\n",
      "           0       0.92      0.97      0.95       980\n",
      "           1       0.96      0.98      0.97      1135\n",
      "           2       0.90      0.86      0.88      1032\n",
      "           3       0.88      0.89      0.89      1010\n",
      "           4       0.91      0.92      0.92       982\n",
      "           5       0.87      0.85      0.86       892\n",
      "           6       0.94      0.93      0.94       958\n",
      "           7       0.92      0.91      0.92      1028\n",
      "           8       0.87      0.84      0.86       974\n",
      "           9       0.89      0.89      0.89      1009\n",
      "\n",
      "    accuracy                           0.91     10000\n",
      "   macro avg       0.91      0.91      0.91     10000\n",
      "weighted avg       0.91      0.91      0.91     10000\n",
      "\n"
     ]
    }
   ],
   "source": [
    "import numpy as np\n",
    "import matplotlib.pyplot as plt\n",
    "from sklearn.linear_model import LogisticRegression\n",
    "from sklearn.metrics import classification_report\n",
    "from sklearn.model_selection import train_test_split\n",
    "from sklearn.utils import shuffle\n",
    "import tensorflow as tf\n",
    "\n",
    "# Load MNIST dataset\n",
    "(x_train, y_train), (x_test, y_test) = tf.keras.datasets.mnist.load_data()\n",
    "\n",
    "# Normalize pixel values\n",
    "x_train = x_train.astype('float32') / 255.0\n",
    "x_test = x_test.astype('float32') / 255.0\n",
    "\n",
    "# Flatten images: (28, 28) -> (784,)\n",
    "x_train_flat = x_train.reshape((x_train.shape[0], -1))\n",
    "x_test_flat = x_test.reshape((x_test.shape[0], -1))\n",
    "\n",
    "# Function to get a balanced subset of samples_per_class images per digit\n",
    "def get_balanced_subset(x, y, samples_per_class=1000, random_state=42):\n",
    "    np.random.seed(random_state)\n",
    "    x_balanced = []\n",
    "    y_balanced = []\n",
    "    for digit in range(10):\n",
    "        idx = np.where(y == digit)[0]\n",
    "        chosen_idx = np.random.choice(idx, samples_per_class, replace=False)\n",
    "        x_balanced.append(x[chosen_idx])\n",
    "        y_balanced.append(y[chosen_idx])\n",
    "    x_balanced = np.vstack(x_balanced)\n",
    "    y_balanced = np.hstack(y_balanced)\n",
    "    return shuffle(x_balanced, y_balanced, random_state=random_state)\n",
    "\n",
    "# Get balanced training subset\n",
    "x_train_balanced, y_train_balanced = get_balanced_subset(x_train_flat, y_train, samples_per_class=1000)\n",
    "\n",
    "# Train Logistic Regression model on balanced subset\n",
    "logreg = LogisticRegression(max_iter=1000, solver='lbfgs', multi_class='multinomial')\n",
    "logreg.fit(x_train_balanced, y_train_balanced)\n",
    "\n",
    "# Evaluate on test set\n",
    "y_pred = logreg.predict(x_test_flat)\n",
    "print(classification_report(y_test, y_pred))\n"
   ]
  },
  {
   "cell_type": "code",
   "execution_count": 8,
   "id": "af326fc3",
   "metadata": {},
   "outputs": [
    {
     "name": "stdout",
     "output_type": "stream",
     "text": [
      "Confusion Matrix:\n",
      "[[ 955    0    2    1    0   14    6    1    1    0]\n",
      " [   0 1109    4    1    1    2    4    2   12    0]\n",
      " [  15   14  892   30   13    6   12    8   37    5]\n",
      " [   4    3   22  902    3   26    2   15   24    9]\n",
      " [   2    3    7    3  907    2    9    3    5   41]\n",
      " [  17    1   11   32    7  754   15   10   37    8]\n",
      " [  16    3   12    0   14   16  893    3    1    0]\n",
      " [   2   10   22    8    6    2    0  935    2   41]\n",
      " [  11   13   15   32   10   41   11   12  820    9]\n",
      " [  11    5    2   16   35    7    0   26    4  903]]\n"
     ]
    }
   ],
   "source": [
    "from sklearn.metrics import confusion_matrix\n",
    "\n",
    "cm = confusion_matrix(y_test, y_pred)\n",
    "print(\"Confusion Matrix:\")\n",
    "print(cm)\n"
   ]
  },
  {
   "cell_type": "code",
   "execution_count": 9,
   "id": "34a3f24f",
   "metadata": {},
   "outputs": [
    {
     "name": "stdout",
     "output_type": "stream",
     "text": [
      "Model saved as 'logistic_digit_model.pkl'\n"
     ]
    }
   ],
   "source": [
    "\n",
    "# Save the model\n",
    "joblib.dump(logreg, \"logistic_digit_model.pkl\")\n",
    "print(\"Model saved as 'logistic_digit_model.pkl'\")\n"
   ]
  }
 ],
 "metadata": {
  "kernelspec": {
   "display_name": "Python 3",
   "language": "python",
   "name": "python3"
  },
  "language_info": {
   "codemirror_mode": {
    "name": "ipython",
    "version": 3
   },
   "file_extension": ".py",
   "mimetype": "text/x-python",
   "name": "python",
   "nbconvert_exporter": "python",
   "pygments_lexer": "ipython3",
   "version": "3.12.10"
  }
 },
 "nbformat": 4,
 "nbformat_minor": 5
}

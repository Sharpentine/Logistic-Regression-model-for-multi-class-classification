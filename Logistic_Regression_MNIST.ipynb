{
 "cells": [
  {
   "cell_type": "markdown",
   "id": "167d27b7",
   "metadata": {},
   "source": [
    "# Logistic Regression MNIST Classifier\n",
    "This notebook replaces the CNN with Logistic Regression and limits the training data to avoid overfitting."
   ]
  },
  {
   "cell_type": "code",
   "execution_count": null,
   "id": "ade22c1a",
   "metadata": {},
   "outputs": [],
   "source": [
    "\n",
    "import numpy as np\n",
    "import matplotlib.pyplot as plt\n",
    "from sklearn.linear_model import LogisticRegression\n",
    "from sklearn.metrics import classification_report\n",
    "from sklearn.model_selection import train_test_split\n",
    "import joblib\n",
    "import tensorflow as tf\n",
    "\n",
    "# Load MNIST dataset\n",
    "(x_train, y_train), (x_test, y_test) = tf.keras.datasets.mnist.load_data()\n",
    "\n",
    "# Normalize pixel values\n",
    "x_train = x_train.astype('float32') / 255.0\n",
    "x_test = x_test.astype('float32') / 255.0\n",
    "\n",
    "# Flatten images: (28, 28) -> (784,)\n",
    "x_train_flat = x_train.reshape((x_train.shape[0], -1))\n",
    "x_test_flat = x_test.reshape((x_test.shape[0], -1))\n",
    "\n",
    "# Limit training size to avoid overfitting\n",
    "x_train_small, _, y_train_small, _ = train_test_split(x_train_flat, y_train, train_size=1000, stratify=y_train, random_state=42)\n",
    "\n",
    "# Train Logistic Regression model\n",
    "logreg = LogisticRegression(max_iter=1000, solver='lbfgs', multi_class='multinomial')\n",
    "logreg.fit(x_train_small, y_train_small)\n",
    "\n",
    "# Evaluate on test set\n",
    "y_pred = logreg.predict(x_test_flat)\n",
    "print(classification_report(y_test, y_pred))\n"
   ]
  },
  {
   "cell_type": "code",
   "execution_count": null,
   "id": "34a3f24f",
   "metadata": {},
   "outputs": [],
   "source": [
    "\n",
    "# Save the model\n",
    "joblib.dump(logreg, \"logistic_digit_model.pkl\")\n",
    "print(\"Model saved as 'logistic_digit_model.pkl'\")\n"
   ]
  }
 ],
 "metadata": {},
 "nbformat": 4,
 "nbformat_minor": 5
}
